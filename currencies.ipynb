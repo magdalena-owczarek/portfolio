{
 "cells": [
  {
   "cell_type": "code",
   "execution_count": 1,
   "metadata": {},
   "outputs": [],
   "source": [
    "import requests\n",
    "import pandas as pd\n",
    "import time\n"
   ]
  },
  {
   "cell_type": "code",
   "execution_count": 2,
   "metadata": {},
   "outputs": [
    {
     "name": "stdout",
     "output_type": "stream",
     "text": [
      "URL: http://api.exchangeratesapi.io/v1/2024-07-15?access_key=ac2a3b86e720edd5af0de273270ead5f&base=EUR&symbols=PLN, USD, CHF\n",
      "Exchange rates:\n",
      "  Currency        Rate\n",
      "0      PLN    4.257511\n",
      "1      USD    1.089977\n",
      "2      CHF    0.976102\n",
      "3     Date  2024-07-15\n",
      "4     Base         EUR\n"
     ]
    }
   ],
   "source": [
    "def exchange_rates(symbols, base, date):\n",
    "    API_KEY = 'ac2a3b86e720edd5af0de273270ead5f'\n",
    "    url = f'http://api.exchangeratesapi.io/v1/{date}?access_key={API_KEY}&base={base}&symbols={symbols}'\n",
    "    print(f\"URL: {url}\")\n",
    "    \n",
    "    try:\n",
    "        response = requests.get(url)\n",
    "        time.sleep(1) \n",
    "\n",
    "        if response.status_code == 200:\n",
    "            data = response.json()\n",
    "            if data['success']:\n",
    "                rates_data = data['rates']\n",
    "                rates_data['Date'] = data['date']\n",
    "                rates_data['Base'] = data['base']\n",
    "                df = pd.DataFrame(rates_data.items(), columns=['Currency', 'Rate'])\n",
    "                return df\n",
    "            else:\n",
    "                print(f\"API Error: {data['error']['info']}\")\n",
    "                return None\n",
    "        else:\n",
    "            print(f\"Failed to fetch data. Response code: {response.status_code}\")\n",
    "            print(response.text)  \n",
    "            return None\n",
    "    except requests.exceptions.RequestException as e:\n",
    "        print(f\"Request Exception: {e}\")\n",
    "        return None\n",
    "\n",
    "\n",
    "symbols = 'PLN, USD, CHF'\n",
    "base = 'EUR'\n",
    "date = '2024-07-15'\n",
    "\n",
    "df = exchange_rates(symbols, base, date)\n",
    "if df is not None:\n",
    "    print(\"Exchange rates:\")\n",
    "    print(df)"
   ]
  }
 ],
 "metadata": {
  "kernelspec": {
   "display_name": "base",
   "language": "python",
   "name": "python3"
  },
  "language_info": {
   "codemirror_mode": {
    "name": "ipython",
    "version": 3
   },
   "file_extension": ".py",
   "mimetype": "text/x-python",
   "name": "python",
   "nbconvert_exporter": "python",
   "pygments_lexer": "ipython3",
   "version": "3.11.5"
  }
 },
 "nbformat": 4,
 "nbformat_minor": 2
}
