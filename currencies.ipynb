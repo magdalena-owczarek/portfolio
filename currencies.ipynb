{
 "cells": [
  {
   "cell_type": "code",
   "execution_count": 1,
   "metadata": {},
   "outputs": [],
   "source": [
    "# Import the necessary libraries\n",
    "import requests  # For making HTTP requests to retrieve data from web APIs\n",
    "import pandas as pd  # For data manipulation and analysis\n",
    "import time  # For adding delays or working with timestamps"
   ]
  },
  {
   "cell_type": "code",
   "execution_count": 2,
   "metadata": {},
   "outputs": [
    {
     "name": "stdout",
     "output_type": "stream",
     "text": [
      "URL: http://api.exchangeratesapi.io/v1/2024-07-15?access_key=ac2a3b86e720edd5af0de273270ead5f&base=EUR&symbols=PLN,USD,CHF\n",
      "Exchange rates:\n",
      "  Currency        Rate\n",
      "0      PLN    4.257511\n",
      "1      USD    1.089977\n",
      "2      CHF    0.976102\n",
      "3     Date  2024-07-15\n",
      "4     Base         EUR\n"
     ]
    }
   ],
   "source": [
    "# Define a function to fetch and process exchange rates\n",
    "def exchange_rates(symbols, base, date):\n",
    "    \"\"\"\n",
    "    Fetches exchange rates for given symbols, base currency, and date from an API.\n",
    "    \n",
    "    Parameters:\n",
    "    symbols (str): Comma-separated list of currency symbols (e.g., 'USD,EUR').\n",
    "    base (str): The base currency symbol (e.g., 'USD').\n",
    "    date (str): The date for which to retrieve exchange rates (e.g., '2024-07-22').\n",
    "\n",
    "    Returns:\n",
    "    pd.DataFrame: A DataFrame containing exchange rates for the specified currencies.\n",
    "    \"\"\"\n",
    "    API_KEY = 'ac2a3b86e720edd5af0de273270ead5f'  # Your API key for accessing the exchange rates API\n",
    "    \n",
    "    # Construct the API endpoint URL with the provided parameters\n",
    "    url = f'http://api.exchangeratesapi.io/v1/{date}?access_key={API_KEY}&base={base}&symbols={symbols}'\n",
    "    print(f\"URL: {url}\")  # Print the URL for debugging purposes\n",
    "    \n",
    "    try:\n",
    "        # Make an HTTP GET request to the API endpoint\n",
    "        response = requests.get(url)\n",
    "        time.sleep(1)  # Add a delay to avoid making requests too frequently\n",
    "\n",
    "        # Check if the request was successful (status code 200)\n",
    "        if response.status_code == 200:\n",
    "            data = response.json()  # Parse the JSON response\n",
    "            if data['success']:\n",
    "                # Extract exchange rates and add metadata to the dictionary\n",
    "                rates_data = data['rates']\n",
    "                rates_data['Date'] = data['date']\n",
    "                rates_data['Base'] = data['base']\n",
    "                \n",
    "                # Convert the dictionary of rates into a DataFrame\n",
    "                df = pd.DataFrame(rates_data.items(), columns=['Currency', 'Rate'])\n",
    "                return df  # Return the DataFrame\n",
    "            else:\n",
    "                # Print an error message if the API indicates an error\n",
    "                print(f\"API Error: {data['error']['info']}\")\n",
    "                return None\n",
    "        else:\n",
    "            # Print an error message if the HTTP request failed\n",
    "            print(f\"Failed to fetch data. Response code: {response.status_code}\")\n",
    "            print(response.text)  # Print the response text for additional debugging information\n",
    "            return None\n",
    "    except requests.exceptions.RequestException as e:\n",
    "        # Print an error message if an exception occurs during the request\n",
    "        print(f\"Request Exception: {e}\")\n",
    "        return None\n",
    "\n",
    "\n",
    "# Define the currency symbols, base currency, and date for the exchange rates request\n",
    "symbols = 'PLN,USD,CHF'  # List of currency symbols for which to get the exchange rates\n",
    "base = 'EUR'  # The base currency against which the rates are provided\n",
    "date = '2024-07-15'  # The date for which the exchange rates are requested\n",
    "\n",
    "# Call the exchange_rates function with the specified parameters\n",
    "df = exchange_rates(symbols, base, date)\n",
    "\n",
    "# Check if the function returned a DataFrame (i.e., the request was successful)\n",
    "if df is not None:\n",
    "    print(\"Exchange rates:\")\n",
    "    print(df)  # Print the DataFrame containing the exchange rates\n",
    "else:\n",
    "    print(\"Failed to retrieve exchange rates.\")\n"
   ]
  }
 ],
 "metadata": {
  "kernelspec": {
   "display_name": "base",
   "language": "python",
   "name": "python3"
  },
  "language_info": {
   "codemirror_mode": {
    "name": "ipython",
    "version": 3
   },
   "file_extension": ".py",
   "mimetype": "text/x-python",
   "name": "python",
   "nbconvert_exporter": "python",
   "pygments_lexer": "ipython3",
   "version": "3.11.5"
  }
 },
 "nbformat": 4,
 "nbformat_minor": 2
}
