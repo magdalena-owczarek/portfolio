{
 "cells": [
  {
   "cell_type": "code",
   "execution_count": 1,
   "metadata": {},
   "outputs": [],
   "source": [
    "import requests  # For making HTTP requests to interact with web APIs\n",
    "import pandas as pd  # For data manipulation and analysis using DataFrames\n",
    "from pandas import json_normalize  # For converting nested JSON data into a flat table (DataFrame)"
   ]
  },
  {
   "cell_type": "code",
   "execution_count": 2,
   "metadata": {},
   "outputs": [],
   "source": [
    "# Define the API key for authentication\n",
    "API_key = '099ec0b8b2639955675106e58ad5490d'  # Your unique API key for accessing the API"
   ]
  },
  {
   "cell_type": "code",
   "execution_count": 3,
   "metadata": {},
   "outputs": [],
   "source": [
    "def get_weather(city_name):\n",
    "    \"\"\"\n",
    "    Fetches the current weather data for a given city from the OpenWeatherMap API.\n",
    "    \n",
    "    Parameters:\n",
    "    city_name (str): The name of the city for which to fetch weather data.\n",
    "    \n",
    "    Returns:\n",
    "    dict: A dictionary containing weather data if the request is successful, or None if the request fails.\n",
    "    \"\"\"\n",
    "    # Construct the URL for the API request, including the city name and API key\n",
    "    url = f\"https://api.openweathermap.org/data/2.5/weather?q={city_name}&appid={API_key}\"\n",
    "    \n",
    "    # Make an HTTP GET request to the OpenWeatherMap API\n",
    "    response = requests.get(url)\n",
    "    \n",
    "    # Check if the request was successful (HTTP status code 200 indicates success)\n",
    "    if response.status_code == 200:\n",
    "        # Parse the JSON response and return the weather data\n",
    "        weather = response.json()\n",
    "        return weather\n",
    "    else:\n",
    "        # Print an error message if the request failed\n",
    "        print(f\"Request failed with status: {response.status_code}\")\n",
    "        return None"
   ]
  },
  {
   "cell_type": "code",
   "execution_count": 4,
   "metadata": {},
   "outputs": [
    {
     "name": "stdout",
     "output_type": "stream",
     "text": [
      "Please choose a city for which you want to check the weather :)\n"
     ]
    }
   ],
   "source": [
    "print(\"Please choose a city for which you want to check the weather :)\")\n",
    "# Prompt the user to enter the name of the city they want to check the weather for\n",
    "city_name = input(\"Enter the city name to check the weather: \")\n",
    "\n",
    "# Call the get_weather function with the provided city name\n",
    "weather_info = get_weather(city_name)\n",
    "\n",
    "# Initialize an empty list to store weather information\n",
    "info_weather = []\n",
    "\n",
    "# Check if the weather information was successfully retrieved\n",
    "if weather_info:\n",
    "    # If successful, append the weather data to the list\n",
    "    info_weather.append(weather_info)"
   ]
  },
  {
   "cell_type": "code",
   "execution_count": 5,
   "metadata": {},
   "outputs": [],
   "source": [
    "# Normalize the 'info_weather' list into a flat DataFrame\n",
    "weather_df = json_normalize(info_weather)\n",
    "\n",
    "# Normalize the nested 'weather' field into a separate DataFrame\n",
    "weather_details_df = json_normalize(info_weather, 'weather')\n",
    "\n",
    "# Merge the main DataFrame with the normalized 'weather' details DataFrame\n",
    "# Dropping the 'weather' column from the main DataFrame before merging\n",
    "merged_df = pd.concat([weather_df.drop(columns=['weather']), weather_details_df], axis=1)\n"
   ]
  },
  {
   "cell_type": "code",
   "execution_count": 6,
   "metadata": {},
   "outputs": [
    {
     "data": {
      "text/plain": [
       "Index(['base', 'visibility', 'dt', 'timezone', 'id', 'name', 'cod',\n",
       "       'coord.lon', 'coord.lat', 'main.temp', 'main.feels_like',\n",
       "       'main.temp_min', 'main.temp_max', 'main.pressure', 'main.humidity',\n",
       "       'main.sea_level', 'main.grnd_level', 'wind.speed', 'wind.deg',\n",
       "       'wind.gust', 'clouds.all', 'sys.type', 'sys.id', 'sys.country',\n",
       "       'sys.sunrise', 'sys.sunset', 'id', 'main', 'description', 'icon'],\n",
       "      dtype='object')"
      ]
     },
     "execution_count": 6,
     "metadata": {},
     "output_type": "execute_result"
    }
   ],
   "source": [
    "# Print the column names of the merged DataFrame\n",
    "print(merged_df.columns)\n"
   ]
  },
  {
   "cell_type": "code",
   "execution_count": 7,
   "metadata": {},
   "outputs": [],
   "source": [
    "# Select specific columns from the merged DataFrame\n",
    "weather_df = merged_df[['name', 'sys.country', 'main.temp', 'main.feels_like', 'main.temp_min', 'main.temp_max', 'main.pressure', 'main.humidity', 'wind.speed', 'clouds.all', 'sys.sunrise', 'sys.sunset', 'weather.main', 'weather.description']]\n",
    "\n",
    "# Print the DataFrame to verify the selected columns\n",
    "print(weather_df)"
   ]
  },
  {
   "cell_type": "code",
   "execution_count": 8,
   "metadata": {},
   "outputs": [
    {
     "name": "stdout",
     "output_type": "stream",
     "text": [
      "You have chosen rozprza. Below are the current weather data for rozprza:\n"
     ]
    },
    {
     "data": {
      "text/html": [
       "<div>\n",
       "<style scoped>\n",
       "    .dataframe tbody tr th:only-of-type {\n",
       "        vertical-align: middle;\n",
       "    }\n",
       "\n",
       "    .dataframe tbody tr th {\n",
       "        vertical-align: top;\n",
       "    }\n",
       "\n",
       "    .dataframe thead th {\n",
       "        text-align: right;\n",
       "    }\n",
       "</style>\n",
       "<table border=\"1\" class=\"dataframe\">\n",
       "  <thead>\n",
       "    <tr style=\"text-align: right;\">\n",
       "      <th></th>\n",
       "      <th>City Name</th>\n",
       "      <th>Country</th>\n",
       "      <th>Temperature</th>\n",
       "      <th>Feels like temperature</th>\n",
       "      <th>Minimum Temperature</th>\n",
       "      <th>Maximum Temperature</th>\n",
       "      <th>Atmospheric Pressure</th>\n",
       "      <th>Humidity</th>\n",
       "      <th>Wind Speed</th>\n",
       "      <th>Cloudiness</th>\n",
       "      <th>Sunrise</th>\n",
       "      <th>Sunset</th>\n",
       "      <th>Generally</th>\n",
       "      <th>Description</th>\n",
       "    </tr>\n",
       "  </thead>\n",
       "  <tbody>\n",
       "    <tr>\n",
       "      <th>0</th>\n",
       "      <td>Rozprza</td>\n",
       "      <td>PL</td>\n",
       "      <td>303.01</td>\n",
       "      <td>303.03</td>\n",
       "      <td>302.03</td>\n",
       "      <td>303.72</td>\n",
       "      <td>1014</td>\n",
       "      <td>43</td>\n",
       "      <td>2.54</td>\n",
       "      <td>87</td>\n",
       "      <td>1720751976</td>\n",
       "      <td>1720810448</td>\n",
       "      <td>Clouds</td>\n",
       "      <td>overcast clouds</td>\n",
       "    </tr>\n",
       "  </tbody>\n",
       "</table>\n",
       "</div>"
      ],
      "text/plain": [
       "  City Name Country  Temperature  Feels like temperature  Minimum Temperature  \\\n",
       "0   Rozprza      PL       303.01                  303.03               302.03   \n",
       "\n",
       "   Maximum Temperature  Atmospheric Pressure  Humidity  Wind Speed  \\\n",
       "0               303.72                  1014        43        2.54   \n",
       "\n",
       "   Cloudiness     Sunrise      Sunset Generally      Description  \n",
       "0          87  1720751976  1720810448    Clouds  overcast clouds  "
      ]
     },
     "execution_count": 8,
     "metadata": {},
     "output_type": "execute_result"
    }
   ],
   "source": [
    "# Define a dictionary to map old column names to new, more descriptive names\n",
    "new_column_names = {\n",
    "    'name': 'City Name',\n",
    "    'sys.country': 'Country',\n",
    "    'main.temp': 'Temperature',\n",
    "    'main.feels_like': 'Feels like temperature',\n",
    "    'main.temp_min': 'Minimum Temperature',\n",
    "    'main.temp_max': 'Maximum Temperature',\n",
    "    'main.pressure': 'Atmospheric Pressure',\n",
    "    'main.humidity': 'Humidity',\n",
    "    'wind.speed': 'Wind Speed',\n",
    "    'clouds.all': 'Cloudiness',\n",
    "    'sys.sunrise': 'Sunrise',\n",
    "    'sys.sunset': 'Sunset',\n",
    "    'weather.main': 'Generally',\n",
    "    'weather.description': 'Description'\n",
    "}\n",
    "\n",
    "# Rename the columns in the weather_df DataFrame according to the new names\n",
    "weather_df = weather_df.rename(columns=new_column_names)\n",
    "\n",
    "# Print a message with the city name and display the DataFrame with the updated column names\n",
    "print(f'You have chosen {city_name}. Below are the current weather data for {city_name}:')\n",
    "print(weather_df)"
   ]
  }
 ],
 "metadata": {
  "kernelspec": {
   "display_name": "base",
   "language": "python",
   "name": "python3"
  },
  "language_info": {
   "codemirror_mode": {
    "name": "ipython",
    "version": 3
   },
   "file_extension": ".py",
   "mimetype": "text/x-python",
   "name": "python",
   "nbconvert_exporter": "python",
   "pygments_lexer": "ipython3",
   "version": "3.11.5"
  }
 },
 "nbformat": 4,
 "nbformat_minor": 2
}
